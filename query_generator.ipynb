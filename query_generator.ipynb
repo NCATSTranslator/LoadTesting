{
 "cells": [
  {
   "cell_type": "code",
   "execution_count": 1,
   "id": "b79192d8",
   "metadata": {},
   "outputs": [],
   "source": [
    "import os\n",
    "import json\n"
   ]
  },
  {
   "cell_type": "code",
   "execution_count": 2,
   "id": "73148563",
   "metadata": {},
   "outputs": [],
   "source": [
    "query_dir='/Users/abdollahis2/github/LoadTesting/queries/'\n",
    "if not os.path.exists(query_dir):\n",
    "    os.makedirs(query_dir)"
   ]
  },
  {
   "cell_type": "code",
   "execution_count": 3,
   "id": "edb23bac",
   "metadata": {},
   "outputs": [],
   "source": [
    "with open(query_dir+'template.json') as data_file:\n",
    "    data = json.load(data_file)"
   ]
  },
  {
   "cell_type": "code",
   "execution_count": 6,
   "id": "d0a6e67b",
   "metadata": {},
   "outputs": [],
   "source": [
    "new_ids={\n",
    "    'gonadal_dysgenesis':'MONDO:0001967',\n",
    "    'chronic_closed-angle_glaucoma':'MONDO:0001966',\n",
    "    'farmer_lung_disease':'MONDO:0001971',\n",
    "    'chorea gravidarum':'MONDO:0001976',\n",
    "    'cavernous_hemangioma_of_orbit':'MONDO:0001975',\n",
    "    'hemangioma_of_orbit':'MONDO:0001974',\n",
    "    'myopia':'MONDO:0011300',\n",
    "    'spastic_paraplegia ':'MONDO:0013962',\n",
    "    'diabetes_mellitus':'MONDO:0011302',\n",
    "    'cerebral_cavernous_malformation':'MONDO:0011304',\n",
    "    'Diamond-Blackfan_anemia ':'MONDO:0013964',\n",
    "    'dumping_syndrome':'MONDO:0001979',\n",
    "    'regional_ureteric_cancer':'MONDO:0001978',\n",
    "    'Niemann-Pick_disease':'MONDO:0001982',\n",
    "    'partial_arterial_retinal_occlusion':'MONDO:0001985',\n",
    "    'optic_disk_drusen':'MONDO:0001746',\n",
    "    'alveolar_periostitis':'MONDO:0001752',\n",
    "    'cholestasis':'MONDO:0001751',\n",
    "    'eclampsia':'MONDO:0001754',\n",
    "    'frontal_sinus_cancer':'MONDO:0001756',\n",
    "    'cataract':'MONDO:0013744',\n",
    "    'dentine_erosion':'MONDO:0001762',\n",
    "    'favism':'MONDO:0001761',\n",
    "    'photokeratitis':'MONDO:0001760',\n",
    "    'stenosis_of_lacrimal_passage':'MONDO:0001768',\n",
    "    'Joubert_syndrome':'MONDO:0013763',\n",
    "    'Wilms_tumor':'MONDO:0011112',\n",
    "    'fibromyxoid_tumor':'MONDO:0037745',\n",
    "    'spinal_injury':'MONDO:0037747',\n",
    "    'Fairbank_disease':'MONDO:0023106',\n",
    "    'thrombocythemia':'MONDO:0013794',\n",
    "    'fibrochondrogenesis':'MONDO:0013795',\n",
    "    'otosclerosis':'MONDO:0011999',\n",
    "    'eyelid_cancer':'MONDO:0021313',\n",
    "    'tonsi_carcinoma':'MONDO:0021337',\n",
    "    'intertrigo':'MONDO:0021340',\n",
    "    'retinal_aplasia':'MONDO:0008372'\n",
    "    \n",
    "    \n",
    "}"
   ]
  },
  {
   "cell_type": "code",
   "execution_count": 5,
   "id": "3a29e7a6",
   "metadata": {},
   "outputs": [],
   "source": [
    "#new_ids={'headache':'MONDO:0005033', 'cold':'MONDO:0005055', 'hypertension': 'MONDO:00050777'}\n",
    "for keys, values in new_ids.items():\n",
    "    data['message']['query_graph']['nodes']['n0']['ids'] = [values]\n",
    "    with open(query_dir+'/'+f'{keys}.json', 'w') as file:\n",
    "        json.dump(data, file, indent=4)\n",
    "        \n",
    "    "
   ]
  },
  {
   "cell_type": "code",
   "execution_count": null,
   "id": "5e22dfa0",
   "metadata": {},
   "outputs": [],
   "source": [
    "ls"
   ]
  },
  {
   "cell_type": "code",
   "execution_count": null,
   "id": "7f51df6d",
   "metadata": {},
   "outputs": [],
   "source": [
    "ls queries/creative/"
   ]
  },
  {
   "cell_type": "code",
   "execution_count": null,
   "id": "7edddc3a",
   "metadata": {},
   "outputs": [],
   "source": []
  }
 ],
 "metadata": {
  "kernelspec": {
   "display_name": "Python 3 (ipykernel)",
   "language": "python",
   "name": "python3"
  },
  "language_info": {
   "codemirror_mode": {
    "name": "ipython",
    "version": 3
   },
   "file_extension": ".py",
   "mimetype": "text/x-python",
   "name": "python",
   "nbconvert_exporter": "python",
   "pygments_lexer": "ipython3",
   "version": "3.9.7"
  }
 },
 "nbformat": 4,
 "nbformat_minor": 5
}
