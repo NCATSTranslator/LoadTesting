{
 "cells": [
  {
   "cell_type": "code",
   "execution_count": 26,
   "id": "b79192d8",
   "metadata": {},
   "outputs": [],
   "source": [
    "import os\n",
    "import json\n"
   ]
  },
  {
   "cell_type": "code",
   "execution_count": 27,
   "id": "73148563",
   "metadata": {},
   "outputs": [],
   "source": [
    "query_dir='/Users/williamsmard/Software/LoadTesting/queries/creative'\n",
    "if not os.path.exists(query_dir):\n",
    "    os.makedirs(query_dir)"
   ]
  },
  {
   "cell_type": "code",
   "execution_count": 28,
   "id": "edb23bac",
   "metadata": {},
   "outputs": [
    {
     "ename": "FileNotFoundError",
     "evalue": "[Errno 2] No such file or directory: '/Users/williamsmard/Software/LoadTesting/queries/creativetemplate.json'",
     "output_type": "error",
     "traceback": [
      "\u001b[0;31m---------------------------------------------------------------------------\u001b[0m",
      "\u001b[0;31mFileNotFoundError\u001b[0m                         Traceback (most recent call last)",
      "Input \u001b[0;32mIn [28]\u001b[0m, in \u001b[0;36m<cell line: 1>\u001b[0;34m()\u001b[0m\n\u001b[0;32m----> 1\u001b[0m \u001b[38;5;28;01mwith\u001b[39;00m \u001b[38;5;28;43mopen\u001b[39;49m\u001b[43m(\u001b[49m\u001b[43mquery_dir\u001b[49m\u001b[38;5;241;43m+\u001b[39;49m\u001b[38;5;124;43m'\u001b[39;49m\u001b[38;5;124;43mtemplate.json\u001b[39;49m\u001b[38;5;124;43m'\u001b[39;49m\u001b[43m)\u001b[49m \u001b[38;5;28;01mas\u001b[39;00m data_file:\n\u001b[1;32m      2\u001b[0m     data \u001b[38;5;241m=\u001b[39m json\u001b[38;5;241m.\u001b[39mload(data_file)\n",
      "\u001b[0;31mFileNotFoundError\u001b[0m: [Errno 2] No such file or directory: '/Users/williamsmard/Software/LoadTesting/queries/creativetemplate.json'"
     ]
    }
   ],
   "source": [
    "with open(query_dir+'template.json') as data_file:\n",
    "    data = json.load(data_file)"
   ]
  },
  {
   "cell_type": "code",
   "execution_count": 29,
   "id": "d0a6e67b",
   "metadata": {},
   "outputs": [],
   "source": [
    "new_ids={\n",
    "    'gonadal_dysgenesis':'MONDO:0001967',\n",
    "    'chronic_closed-angle_glaucoma':'MONDO:0001966',\n",
    "    'farmer_lung_disease':'MONDO:0001971',\n",
    "    'chorea_gravidarum':'MONDO:0001976',\n",
    "    'cavernous_hemangioma_of_orbit':'MONDO:0001975',\n",
    "    'hemangioma_of_orbit':'MONDO:0001974',\n",
    "    'myopia':'MONDO:0011300',\n",
    "    'spastic_paraplegia':'MONDO:0013962',\n",
    "    'diabetes_mellitus':'MONDO:0011302',\n",
    "    'cerebral_cavernous_malformation':'MONDO:0011304',\n",
    "    'Diamond-Blackfan_anemia':'MONDO:0013964',\n",
    "    'dumping_syndrome':'MONDO:0001979',\n",
    "    'regional_ureteric_cancer':'MONDO:0001978',\n",
    "    'Niemann-Pick_disease':'MONDO:0001982',\n",
    "    'partial_arterial_retinal_occlusion':'MONDO:0001985',\n",
    "    'optic_disk_drusen':'MONDO:0001746',\n",
    "    'alveolar_periostitis':'MONDO:0001752',\n",
    "    'cholestasis':'MONDO:0001751',\n",
    "    'eclampsia':'MONDO:0001754',\n",
    "    'frontal_sinus_cancer':'MONDO:0001756',\n",
    "    'cataract':'MONDO:0013744',\n",
    "    'dentine_erosion':'MONDO:0001762',\n",
    "    'favism':'MONDO:0001761',\n",
    "    'photokeratitis':'MONDO:0001760',\n",
    "    'stenosis_of_lacrimal_passage':'MONDO:0001768',\n",
    "    'Joubert_syndrome':'MONDO:0013763',\n",
    "    'Wilms_tumor':'MONDO:0011112',\n",
    "    'fibromyxoid_tumor':'MONDO:0037745',\n",
    "    'spinal_injury':'MONDO:0037747',\n",
    "    'Fairbank_disease':'MONDO:0023106',\n",
    "    'thrombocythemia':'MONDO:0013794',\n",
    "    'fibrochondrogenesis':'MONDO:0013795',\n",
    "    'otosclerosis':'MONDO:0011999',\n",
    "    'eyelid_cancer':'MONDO:0021313',\n",
    "    'tonsi_carcinoma':'MONDO:0021337',\n",
    "    'intertrigo':'MONDO:0021340',\n",
    "    'retinal_aplasia':'MONDO:0008372'\n",
    "    \n",
    "    \n",
    "}"
   ]
  },
  {
   "cell_type": "code",
   "execution_count": 30,
   "id": "3a29e7a6",
   "metadata": {},
   "outputs": [],
   "source": [
    "#new_ids={'headache':'MONDO:0005033', 'cold':'MONDO:0005055', 'hypertension': 'MONDO:00050777'}\n",
    "for keys, values in new_ids.items():\n",
    "    data['message']['query_graph']['nodes']['n0']['ids'] = [values]\n",
    "    with open(query_dir+'/'+f'{keys}.json', 'w') as file:\n",
    "        json.dump(data, file, indent=4)\n",
    "        \n",
    "    "
   ]
  },
  {
   "cell_type": "code",
   "execution_count": 31,
   "id": "5e22dfa0",
   "metadata": {},
   "outputs": [
    {
     "name": "stdout",
     "output_type": "stream",
     "text": [
      "LICENSE                     myapp.log\r\n",
      "README.md                   \u001b[34mqueries\u001b[m\u001b[m/\r\n",
      "completion_time_10_queries  query_generator.ipynb\r\n",
      "\u001b[34menv\u001b[m\u001b[m/                        script.py\r\n"
     ]
    }
   ],
   "source": [
    "ls"
   ]
  },
  {
   "cell_type": "code",
   "execution_count": 32,
   "id": "7f51df6d",
   "metadata": {},
   "outputs": [
    {
     "name": "stdout",
     "output_type": "stream",
     "text": [
      "Diamond-Blackfan_anemia.json\r\n",
      "Fairbank_disease.json\r\n",
      "Joubert_syndrome.json\r\n",
      "Niemann-Pick_disease.json\r\n",
      "Wilms_tumor.json\r\n",
      "alveolar_periostitis.json\r\n",
      "cataract.json\r\n",
      "cavernous_hemangioma_of_orbit.json\r\n",
      "cerebral_cavernous_malformation.json\r\n",
      "cholestasis.json\r\n",
      "chorea_gravidarum.json\r\n",
      "chronic_closed-angle_glaucoma.json\r\n",
      "dentine_erosion.json\r\n",
      "diabetes_mellitus.json\r\n",
      "dumping_syndrome.json\r\n",
      "eclampsia.json\r\n",
      "eyelid_cancer.json\r\n",
      "farmer_lung_disease.json\r\n",
      "favism.json\r\n",
      "fibrochondrogenesis.json\r\n",
      "fibromyxoid_tumor.json\r\n",
      "frontal_sinus_cancer.json\r\n",
      "gonadal_dysgenesis.json\r\n",
      "hemangioma_of_orbit.json\r\n",
      "intertrigo.json\r\n",
      "myopia.json\r\n",
      "optic_disk_drusen.json\r\n",
      "otosclerosis.json\r\n",
      "partial_arterial_retinal_occlusion.json\r\n",
      "photokeratitis.json\r\n",
      "regional_ureteric_cancer.json\r\n",
      "retinal_aplasia.json\r\n",
      "spastic_paraplegia.json\r\n",
      "spinal_injury.json\r\n",
      "stenosis_of_lacrimal_passage.json\r\n",
      "thrombocythemia.json\r\n",
      "tonsi_carcinoma.json\r\n"
     ]
    }
   ],
   "source": [
    "ls queries/creative/"
   ]
  },
  {
   "cell_type": "code",
   "execution_count": null,
   "id": "7edddc3a",
   "metadata": {},
   "outputs": [],
   "source": []
  }
 ],
 "metadata": {
  "kernelspec": {
   "display_name": "Python 3 (ipykernel)",
   "language": "python",
   "name": "python3"
  },
  "language_info": {
   "codemirror_mode": {
    "name": "ipython",
    "version": 3
   },
   "file_extension": ".py",
   "mimetype": "text/x-python",
   "name": "python",
   "nbconvert_exporter": "python",
   "pygments_lexer": "ipython3",
   "version": "3.9.13"
  }
 },
 "nbformat": 4,
 "nbformat_minor": 5
}
